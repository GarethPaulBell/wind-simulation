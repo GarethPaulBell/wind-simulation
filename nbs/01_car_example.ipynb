{
 "cells": [
  {
   "cell_type": "code",
   "execution_count": null,
   "id": "158b051d-df63-4162-a355-264d2436cafd",
   "metadata": {},
   "outputs": [],
   "source": [
    "import numpy as np\n",
    "# from IPython import display\n",
    "import sys\n",
    "sys.path.append(\"/home/gareth/XLB\")\n",
    "import matplotlib.pylab as plt\n",
    "from src.models import BGKSim, KBCSim\n",
    "from src.lattice import LatticeD3Q19, LatticeD3Q27\n",
    "from src.boundary_conditions import *\n",
    "import numpy as np\n",
    "from src.utils import *\n",
    "from jax import config\n",
    "import os\n",
    "#os.environ[\"XLA_FLAGS\"] = '--xla_force_host_platform_device_count=8'\n",
    "import jax\n",
    "import scipy"
   ]
  },
  {
   "cell_type": "code",
   "execution_count": null,
   "id": "b88fd46d-2cac-4eb9-8d30-2824adf85dc2",
   "metadata": {},
   "outputs": [
    {
     "name": "stdout",
     "output_type": "stream",
     "text": [
      "\u001b[0m\u001b[01;34mXLB\u001b[0m/          \u001b[01;34mcolor_testing\u001b[0m/  readme.txt   \u001b[01;34mtaskwarrior_data\u001b[0m/\n",
      "\u001b[01;34m__pycache__\u001b[0m/  \u001b[01;34mgareth\u001b[0m/         \u001b[01;34mtaskd_data\u001b[0m/\n"
     ]
    }
   ],
   "source": [
    "%ls ~"
   ]
  },
  {
   "cell_type": "code",
   "execution_count": null,
   "id": "5eb8d2df-df20-4ad1-a774-5ca112c61e4f",
   "metadata": {},
   "outputs": [],
   "source": [
    "class Car(KBCSim):\n",
    "    def __init__(self, **kwargs):\n",
    "        super().__init__(**kwargs)\n",
    "\n",
    "    def voxelize_stl(self, stl_filename, length_lbm_unit):\n",
    "        mesh = trimesh.load_mesh(stl_filename, process=False)\n",
    "        length_phys_unit = mesh.extents.max()\n",
    "        pitch = length_phys_unit/length_lbm_unit\n",
    "        mesh_voxelized = mesh.voxelized(pitch=pitch)\n",
    "        mesh_matrix = mesh_voxelized.matrix\n",
    "        return mesh_matrix, pitch\n",
    "\n",
    "    def set_boundary_conditions(self):\n",
    "        print('Voxelizing mesh...')\n",
    "        time_start = time()\n",
    "        stl_filename = 'stl-files/DrivAer-Notchback.stl'\n",
    "        car_length_lbm_unit = self.nx / 4\n",
    "        car_voxelized, pitch = voxelize_stl(stl_filename, car_length_lbm_unit)\n",
    "        car_matrix = car_voxelized.matrix\n",
    "        print('Voxelization time for pitch={}: {} seconds'.format(pitch, time() - time_start))\n",
    "        print(\"Car matrix shape: \", car_matrix.shape)\n",
    "\n",
    "        self.car_area = np.prod(car_matrix.shape[1:])\n",
    "        tx, ty, tz = np.array([nx, ny, nz]) - car_matrix.shape\n",
    "        shift = [tx//4, ty//2, 0]\n",
    "        car_indices = np.argwhere(car_matrix) + shift\n",
    "        self.BCs.append(BounceBackHalfway(tuple(car_indices.T), self.gridInfo, self.precisionPolicy))\n",
    "\n",
    "        wall = np.concatenate((self.boundingBoxIndices['bottom'], self.boundingBoxIndices['top'],\n",
    "                               self.boundingBoxIndices['front'], self.boundingBoxIndices['back']))\n",
    "        self.BCs.append(BounceBack(tuple(wall.T), self.gridInfo, self.precisionPolicy))\n",
    "\n",
    "        doNothing = self.boundingBoxIndices['right']\n",
    "        self.BCs.append(DoNothing(tuple(doNothing.T), self.gridInfo, self.precisionPolicy))\n",
    "        self.BCs[-1].implementationStep = 'PostCollision'\n",
    "        # rho_outlet = np.ones(doNothing.shape[0], dtype=self.precisionPolicy.compute_dtype)\n",
    "        # self.BCs.append(ZouHe(tuple(doNothing.T),\n",
    "        #                                          self.gridInfo,\n",
    "        #                                          self.precisionPolicy,\n",
    "        #                                          'pressure', rho_outlet))\n",
    "\n",
    "        inlet = self.boundingBoxIndices['left']\n",
    "        rho_inlet = np.ones((inlet.shape[0], 1), dtype=self.precisionPolicy.compute_dtype)\n",
    "        vel_inlet = np.zeros(inlet.shape, dtype=self.precisionPolicy.compute_dtype)\n",
    "\n",
    "        vel_inlet[:, 0] = prescribed_vel\n",
    "        self.BCs.append(EquilibriumBC(tuple(inlet.T), self.gridInfo, self.precisionPolicy, rho_inlet, vel_inlet))\n",
    "        # self.BCs.append(ZouHe(tuple(inlet.T),\n",
    "        #                                          self.gridInfo,\n",
    "        #                                          self.precisionPolicy,\n",
    "        #                                          'velocity', vel_inlet))"
   ]
  },
  {
   "cell_type": "code",
   "execution_count": null,
   "id": "a5205e13-fe42-48e0-bd22-bb144ed5e775",
   "metadata": {},
   "outputs": [],
   "source": []
  },
  {
   "cell_type": "code",
   "execution_count": null,
   "id": "a857fb71-db07-4ac3-9f17-20195b974b28",
   "metadata": {},
   "outputs": [
    {
     "name": "stdout",
     "output_type": "stream",
     "text": [
      "\u001b[32m**** Simulation Parameters for Car ****\u001b[0m\n",
      "            \u001b[34mParameter\u001b[0m | \u001b[33mValue\u001b[0m\n",
      "--------------------------------------------------\n",
      "                \u001b[34mOmega\u001b[0m | \u001b[33m1.9928258270227182\u001b[0m\n",
      "     \u001b[34mGrid Points in X\u001b[0m | \u001b[33m601\u001b[0m\n",
      "     \u001b[34mGrid Points in Y\u001b[0m | \u001b[33m351\u001b[0m\n",
      "     \u001b[34mGrid Points in Z\u001b[0m | \u001b[33m251\u001b[0m\n",
      "       \u001b[34mDimensionality\u001b[0m | \u001b[33m3\u001b[0m\n",
      "     \u001b[34mPrecision Policy\u001b[0m | \u001b[33mf32/f32\u001b[0m\n",
      "         \u001b[34mLattice Type\u001b[0m | \u001b[33mD3Q27\u001b[0m\n",
      "      \u001b[34mCheckpoint Rate\u001b[0m | \u001b[33m0\u001b[0m\n",
      " \u001b[34mCheckpoint Directory\u001b[0m | \u001b[33m./checkpoints\u001b[0m\n",
      "  \u001b[34mDownsampling Factor\u001b[0m | \u001b[33m1\u001b[0m\n",
      "      \u001b[34mPrint Info Rate\u001b[0m | \u001b[33m100\u001b[0m\n",
      "             \u001b[34mI/O Rate\u001b[0m | \u001b[33m100\u001b[0m\n",
      "        \u001b[34mCompute MLUPS\u001b[0m | \u001b[33mFalse\u001b[0m\n",
      "   \u001b[34mRestore Checkpoint\u001b[0m | \u001b[33mFalse\u001b[0m\n",
      "              \u001b[34mBackend\u001b[0m | \u001b[33mcpu\u001b[0m\n",
      "    \u001b[34mNumber of Devices\u001b[0m | \u001b[33m1\u001b[0m\n",
      "Voxelizing mesh...\n"
     ]
    },
    {
     "ename": "ValueError",
     "evalue": "string is not a file: stl-files/DrivAer-Notchback.stl",
     "output_type": "error",
     "traceback": [
      "\u001b[0;31m---------------------------------------------------------------------------\u001b[0m",
      "\u001b[0;31mValueError\u001b[0m                                Traceback (most recent call last)",
      "\u001b[0;32m/tmp/ipykernel_2975/244572203.py\u001b[0m in \u001b[0;36m<module>\u001b[0;34m\u001b[0m\n\u001b[1;32m     26\u001b[0m     \u001b[0;34m'return_fpost'\u001b[0m\u001b[0;34m:\u001b[0m \u001b[0;32mTrue\u001b[0m  \u001b[0;31m# Need to retain fpost-collision for computation of lift and drag\u001b[0m\u001b[0;34m\u001b[0m\u001b[0;34m\u001b[0m\u001b[0m\n\u001b[1;32m     27\u001b[0m }\n\u001b[0;32m---> 28\u001b[0;31m \u001b[0msim\u001b[0m \u001b[0;34m=\u001b[0m \u001b[0mCar\u001b[0m\u001b[0;34m(\u001b[0m\u001b[0;34m**\u001b[0m\u001b[0mkwargs\u001b[0m\u001b[0;34m)\u001b[0m\u001b[0;34m\u001b[0m\u001b[0;34m\u001b[0m\u001b[0m\n\u001b[0m\u001b[1;32m     29\u001b[0m \u001b[0msim\u001b[0m\u001b[0;34m.\u001b[0m\u001b[0mrun\u001b[0m\u001b[0;34m(\u001b[0m\u001b[0;36m200000\u001b[0m\u001b[0;34m)\u001b[0m\u001b[0;34m\u001b[0m\u001b[0;34m\u001b[0m\u001b[0m\n\u001b[1;32m     30\u001b[0m \u001b[0;34m\u001b[0m\u001b[0m\n",
      "\u001b[0;32m/tmp/ipykernel_2975/3111221046.py\u001b[0m in \u001b[0;36m__init__\u001b[0;34m(self, **kwargs)\u001b[0m\n\u001b[1;32m      1\u001b[0m \u001b[0;32mclass\u001b[0m \u001b[0mCar\u001b[0m\u001b[0;34m(\u001b[0m\u001b[0mKBCSim\u001b[0m\u001b[0;34m)\u001b[0m\u001b[0;34m:\u001b[0m\u001b[0;34m\u001b[0m\u001b[0;34m\u001b[0m\u001b[0m\n\u001b[1;32m      2\u001b[0m     \u001b[0;32mdef\u001b[0m \u001b[0m__init__\u001b[0m\u001b[0;34m(\u001b[0m\u001b[0mself\u001b[0m\u001b[0;34m,\u001b[0m \u001b[0;34m**\u001b[0m\u001b[0mkwargs\u001b[0m\u001b[0;34m)\u001b[0m\u001b[0;34m:\u001b[0m\u001b[0;34m\u001b[0m\u001b[0;34m\u001b[0m\u001b[0m\n\u001b[0;32m----> 3\u001b[0;31m         \u001b[0msuper\u001b[0m\u001b[0;34m(\u001b[0m\u001b[0;34m)\u001b[0m\u001b[0;34m.\u001b[0m\u001b[0m__init__\u001b[0m\u001b[0;34m(\u001b[0m\u001b[0;34m**\u001b[0m\u001b[0mkwargs\u001b[0m\u001b[0;34m)\u001b[0m\u001b[0;34m\u001b[0m\u001b[0;34m\u001b[0m\u001b[0m\n\u001b[0m\u001b[1;32m      4\u001b[0m \u001b[0;34m\u001b[0m\u001b[0m\n\u001b[1;32m      5\u001b[0m     \u001b[0;32mdef\u001b[0m \u001b[0mvoxelize_stl\u001b[0m\u001b[0;34m(\u001b[0m\u001b[0mself\u001b[0m\u001b[0;34m,\u001b[0m \u001b[0mstl_filename\u001b[0m\u001b[0;34m,\u001b[0m \u001b[0mlength_lbm_unit\u001b[0m\u001b[0;34m)\u001b[0m\u001b[0;34m:\u001b[0m\u001b[0;34m\u001b[0m\u001b[0;34m\u001b[0m\u001b[0m\n",
      "\u001b[0;32m~/XLB/src/models.py\u001b[0m in \u001b[0;36m__init__\u001b[0;34m(self, **kwargs)\u001b[0m\n\u001b[1;32m     43\u001b[0m         \u001b[0;32mif\u001b[0m \u001b[0mkwargs\u001b[0m\u001b[0;34m.\u001b[0m\u001b[0mget\u001b[0m\u001b[0;34m(\u001b[0m\u001b[0;34m'lattice'\u001b[0m\u001b[0;34m)\u001b[0m\u001b[0;34m.\u001b[0m\u001b[0mname\u001b[0m \u001b[0;34m!=\u001b[0m \u001b[0;34m'D3Q27'\u001b[0m \u001b[0;32mand\u001b[0m \u001b[0mkwargs\u001b[0m\u001b[0;34m.\u001b[0m\u001b[0mget\u001b[0m\u001b[0;34m(\u001b[0m\u001b[0;34m'nz'\u001b[0m\u001b[0;34m)\u001b[0m \u001b[0;34m>\u001b[0m \u001b[0;36m0\u001b[0m\u001b[0;34m:\u001b[0m\u001b[0;34m\u001b[0m\u001b[0;34m\u001b[0m\u001b[0m\n\u001b[1;32m     44\u001b[0m             \u001b[0;32mraise\u001b[0m \u001b[0mValueError\u001b[0m\u001b[0;34m(\u001b[0m\u001b[0;34m\"KBC collision operator in 3D must only be used with D3Q27 lattice.\"\u001b[0m\u001b[0;34m)\u001b[0m\u001b[0;34m\u001b[0m\u001b[0;34m\u001b[0m\u001b[0m\n\u001b[0;32m---> 45\u001b[0;31m         \u001b[0msuper\u001b[0m\u001b[0;34m(\u001b[0m\u001b[0;34m)\u001b[0m\u001b[0;34m.\u001b[0m\u001b[0m__init__\u001b[0m\u001b[0;34m(\u001b[0m\u001b[0;34m**\u001b[0m\u001b[0mkwargs\u001b[0m\u001b[0;34m)\u001b[0m\u001b[0;34m\u001b[0m\u001b[0;34m\u001b[0m\u001b[0m\n\u001b[0m\u001b[1;32m     46\u001b[0m \u001b[0;34m\u001b[0m\u001b[0m\n\u001b[1;32m     47\u001b[0m     \u001b[0;34m@\u001b[0m\u001b[0mpartial\u001b[0m\u001b[0;34m(\u001b[0m\u001b[0mjit\u001b[0m\u001b[0;34m,\u001b[0m \u001b[0mstatic_argnums\u001b[0m\u001b[0;34m=\u001b[0m\u001b[0;34m(\u001b[0m\u001b[0;36m0\u001b[0m\u001b[0;34m,\u001b[0m\u001b[0;34m)\u001b[0m\u001b[0;34m,\u001b[0m \u001b[0mdonate_argnums\u001b[0m\u001b[0;34m=\u001b[0m\u001b[0;34m(\u001b[0m\u001b[0;36m1\u001b[0m\u001b[0;34m,\u001b[0m\u001b[0;34m)\u001b[0m\u001b[0;34m)\u001b[0m\u001b[0;34m\u001b[0m\u001b[0;34m\u001b[0m\u001b[0m\n",
      "\u001b[0;32m~/XLB/src/base.py\u001b[0m in \u001b[0;36m__init__\u001b[0;34m(self, **kwargs)\u001b[0m\n\u001b[1;32m    143\u001b[0m         \u001b[0mself\u001b[0m\u001b[0;34m.\u001b[0m\u001b[0mboundingBoxIndices\u001b[0m\u001b[0;34m=\u001b[0m \u001b[0mself\u001b[0m\u001b[0;34m.\u001b[0m\u001b[0mbounding_box_indices\u001b[0m\u001b[0;34m(\u001b[0m\u001b[0;34m)\u001b[0m\u001b[0;34m\u001b[0m\u001b[0;34m\u001b[0m\u001b[0m\n\u001b[1;32m    144\u001b[0m         \u001b[0;31m# Create boundary data for the simulation\u001b[0m\u001b[0;34m\u001b[0m\u001b[0;34m\u001b[0m\u001b[0m\n\u001b[0;32m--> 145\u001b[0;31m         \u001b[0mself\u001b[0m\u001b[0;34m.\u001b[0m\u001b[0m_create_boundary_data\u001b[0m\u001b[0;34m(\u001b[0m\u001b[0;34m)\u001b[0m\u001b[0;34m\u001b[0m\u001b[0;34m\u001b[0m\u001b[0m\n\u001b[0m\u001b[1;32m    146\u001b[0m         \u001b[0mself\u001b[0m\u001b[0;34m.\u001b[0m\u001b[0mforce\u001b[0m \u001b[0;34m=\u001b[0m \u001b[0mself\u001b[0m\u001b[0;34m.\u001b[0m\u001b[0mget_force\u001b[0m\u001b[0;34m(\u001b[0m\u001b[0;34m)\u001b[0m\u001b[0;34m\u001b[0m\u001b[0;34m\u001b[0m\u001b[0m\n\u001b[1;32m    147\u001b[0m \u001b[0;34m\u001b[0m\u001b[0m\n",
      "\u001b[0;32m~/XLB/src/base.py\u001b[0m in \u001b[0;36m_create_boundary_data\u001b[0;34m(self)\u001b[0m\n\u001b[1;32m    355\u001b[0m         \"\"\"\n\u001b[1;32m    356\u001b[0m         \u001b[0mself\u001b[0m\u001b[0;34m.\u001b[0m\u001b[0mBCs\u001b[0m \u001b[0;34m=\u001b[0m \u001b[0;34m[\u001b[0m\u001b[0;34m]\u001b[0m\u001b[0;34m\u001b[0m\u001b[0;34m\u001b[0m\u001b[0m\n\u001b[0;32m--> 357\u001b[0;31m         \u001b[0mself\u001b[0m\u001b[0;34m.\u001b[0m\u001b[0mset_boundary_conditions\u001b[0m\u001b[0;34m(\u001b[0m\u001b[0;34m)\u001b[0m\u001b[0;34m\u001b[0m\u001b[0;34m\u001b[0m\u001b[0m\n\u001b[0m\u001b[1;32m    358\u001b[0m         \u001b[0;31m# Accumulate the indices of all BCs to create the grid mask with FALSE along directions that\u001b[0m\u001b[0;34m\u001b[0m\u001b[0;34m\u001b[0m\u001b[0m\n\u001b[1;32m    359\u001b[0m         \u001b[0;31m# stream into a boundary voxel.\u001b[0m\u001b[0;34m\u001b[0m\u001b[0;34m\u001b[0m\u001b[0m\n",
      "\u001b[0;32m/tmp/ipykernel_2975/3111221046.py\u001b[0m in \u001b[0;36mset_boundary_conditions\u001b[0;34m(self)\u001b[0m\n\u001b[1;32m     16\u001b[0m         \u001b[0mstl_filename\u001b[0m \u001b[0;34m=\u001b[0m \u001b[0;34m'stl-files/DrivAer-Notchback.stl'\u001b[0m\u001b[0;34m\u001b[0m\u001b[0;34m\u001b[0m\u001b[0m\n\u001b[1;32m     17\u001b[0m         \u001b[0mcar_length_lbm_unit\u001b[0m \u001b[0;34m=\u001b[0m \u001b[0mself\u001b[0m\u001b[0;34m.\u001b[0m\u001b[0mnx\u001b[0m \u001b[0;34m/\u001b[0m \u001b[0;36m4\u001b[0m\u001b[0;34m\u001b[0m\u001b[0;34m\u001b[0m\u001b[0m\n\u001b[0;32m---> 18\u001b[0;31m         \u001b[0mcar_voxelized\u001b[0m\u001b[0;34m,\u001b[0m \u001b[0mpitch\u001b[0m \u001b[0;34m=\u001b[0m \u001b[0mvoxelize_stl\u001b[0m\u001b[0;34m(\u001b[0m\u001b[0mstl_filename\u001b[0m\u001b[0;34m,\u001b[0m \u001b[0mcar_length_lbm_unit\u001b[0m\u001b[0;34m)\u001b[0m\u001b[0;34m\u001b[0m\u001b[0;34m\u001b[0m\u001b[0m\n\u001b[0m\u001b[1;32m     19\u001b[0m         \u001b[0mcar_matrix\u001b[0m \u001b[0;34m=\u001b[0m \u001b[0mcar_voxelized\u001b[0m\u001b[0;34m.\u001b[0m\u001b[0mmatrix\u001b[0m\u001b[0;34m\u001b[0m\u001b[0;34m\u001b[0m\u001b[0m\n\u001b[1;32m     20\u001b[0m         \u001b[0mprint\u001b[0m\u001b[0;34m(\u001b[0m\u001b[0;34m'Voxelization time for pitch={}: {} seconds'\u001b[0m\u001b[0;34m.\u001b[0m\u001b[0mformat\u001b[0m\u001b[0;34m(\u001b[0m\u001b[0mpitch\u001b[0m\u001b[0;34m,\u001b[0m \u001b[0mtime\u001b[0m\u001b[0;34m(\u001b[0m\u001b[0;34m)\u001b[0m \u001b[0;34m-\u001b[0m \u001b[0mtime_start\u001b[0m\u001b[0;34m)\u001b[0m\u001b[0;34m)\u001b[0m\u001b[0;34m\u001b[0m\u001b[0;34m\u001b[0m\u001b[0m\n",
      "\u001b[0;32m~/XLB/src/utils.py\u001b[0m in \u001b[0;36mvoxelize_stl\u001b[0;34m(stl_filename, length_lbm_unit, tranformation_matrix, pitch)\u001b[0m\n\u001b[1;32m    299\u001b[0m     \u001b[0;32mif\u001b[0m \u001b[0mlength_lbm_unit\u001b[0m \u001b[0;32mis\u001b[0m \u001b[0;32mNone\u001b[0m \u001b[0;32mand\u001b[0m \u001b[0mpitch\u001b[0m \u001b[0;32mis\u001b[0m \u001b[0;32mNone\u001b[0m\u001b[0;34m:\u001b[0m\u001b[0;34m\u001b[0m\u001b[0;34m\u001b[0m\u001b[0m\n\u001b[1;32m    300\u001b[0m         \u001b[0;32mraise\u001b[0m \u001b[0mValueError\u001b[0m\u001b[0;34m(\u001b[0m\u001b[0;34m\"Either 'length_lbm_unit' or 'pitch' must be provided!\"\u001b[0m\u001b[0;34m)\u001b[0m\u001b[0;34m\u001b[0m\u001b[0;34m\u001b[0m\u001b[0m\n\u001b[0;32m--> 301\u001b[0;31m     \u001b[0mmesh\u001b[0m \u001b[0;34m=\u001b[0m \u001b[0mtrimesh\u001b[0m\u001b[0;34m.\u001b[0m\u001b[0mload_mesh\u001b[0m\u001b[0;34m(\u001b[0m\u001b[0mstl_filename\u001b[0m\u001b[0;34m,\u001b[0m \u001b[0mprocess\u001b[0m\u001b[0;34m=\u001b[0m\u001b[0;32mFalse\u001b[0m\u001b[0;34m)\u001b[0m\u001b[0;34m\u001b[0m\u001b[0;34m\u001b[0m\u001b[0m\n\u001b[0m\u001b[1;32m    302\u001b[0m     \u001b[0mlength_phys_unit\u001b[0m \u001b[0;34m=\u001b[0m \u001b[0mmesh\u001b[0m\u001b[0;34m.\u001b[0m\u001b[0mextents\u001b[0m\u001b[0;34m.\u001b[0m\u001b[0mmax\u001b[0m\u001b[0;34m(\u001b[0m\u001b[0;34m)\u001b[0m\u001b[0;34m\u001b[0m\u001b[0;34m\u001b[0m\u001b[0m\n\u001b[1;32m    303\u001b[0m     \u001b[0;32mif\u001b[0m \u001b[0mtranformation_matrix\u001b[0m \u001b[0;32mis\u001b[0m \u001b[0;32mnot\u001b[0m \u001b[0;32mNone\u001b[0m\u001b[0;34m:\u001b[0m\u001b[0;34m\u001b[0m\u001b[0;34m\u001b[0m\u001b[0m\n",
      "\u001b[0;32m~/.local/lib/python3.10/site-packages/trimesh/exchange/load.py\u001b[0m in \u001b[0;36mload_mesh\u001b[0;34m(file_obj, file_type, resolver, **kwargs)\u001b[0m\n\u001b[1;32m    193\u001b[0m         \u001b[0mopened\u001b[0m\u001b[0;34m,\u001b[0m  \u001b[0;31m# bool, did we open the file ourselves\u001b[0m\u001b[0;34m\u001b[0m\u001b[0;34m\u001b[0m\u001b[0m\n\u001b[1;32m    194\u001b[0m         \u001b[0mresolver\u001b[0m\u001b[0;34m,\u001b[0m  \u001b[0;31m# object to load referenced resources\u001b[0m\u001b[0;34m\u001b[0m\u001b[0;34m\u001b[0m\u001b[0m\n\u001b[0;32m--> 195\u001b[0;31m     ) = parse_file_args(file_obj=file_obj, file_type=file_type, resolver=resolver)\n\u001b[0m\u001b[1;32m    196\u001b[0m \u001b[0;34m\u001b[0m\u001b[0m\n\u001b[1;32m    197\u001b[0m     \u001b[0;32mtry\u001b[0m\u001b[0;34m:\u001b[0m\u001b[0;34m\u001b[0m\u001b[0;34m\u001b[0m\u001b[0m\n",
      "\u001b[0;32m~/.local/lib/python3.10/site-packages/trimesh/exchange/load.py\u001b[0m in \u001b[0;36mparse_file_args\u001b[0;34m(file_obj, file_type, resolver, **kwargs)\u001b[0m\n\u001b[1;32m    603\u001b[0m                 \u001b[0;32mraise\u001b[0m \u001b[0mValueError\u001b[0m\u001b[0;34m(\u001b[0m\u001b[0;34mf\"use load_remote to load URL: {file_obj}\"\u001b[0m\u001b[0;34m)\u001b[0m\u001b[0;34m\u001b[0m\u001b[0;34m\u001b[0m\u001b[0m\n\u001b[1;32m    604\u001b[0m             \u001b[0;32melif\u001b[0m \u001b[0mfile_type\u001b[0m \u001b[0;32mis\u001b[0m \u001b[0;32mNone\u001b[0m\u001b[0;34m:\u001b[0m\u001b[0;34m\u001b[0m\u001b[0;34m\u001b[0m\u001b[0m\n\u001b[0;32m--> 605\u001b[0;31m                 \u001b[0;32mraise\u001b[0m \u001b[0mValueError\u001b[0m\u001b[0;34m(\u001b[0m\u001b[0;34mf\"string is not a file: {file_obj}\"\u001b[0m\u001b[0;34m)\u001b[0m\u001b[0;34m\u001b[0m\u001b[0;34m\u001b[0m\u001b[0m\n\u001b[0m\u001b[1;32m    606\u001b[0m \u001b[0;34m\u001b[0m\u001b[0m\n\u001b[1;32m    607\u001b[0m     \u001b[0;32mif\u001b[0m \u001b[0mfile_type\u001b[0m \u001b[0;32mis\u001b[0m \u001b[0;32mNone\u001b[0m\u001b[0;34m:\u001b[0m\u001b[0;34m\u001b[0m\u001b[0;34m\u001b[0m\u001b[0m\n",
      "\u001b[0;31mValueError\u001b[0m: string is not a file: stl-files/DrivAer-Notchback.stl"
     ]
    }
   ],
   "source": [
    "\n",
    "precision = 'f32/f32'\n",
    "lattice = LatticeD3Q27(precision)\n",
    "\n",
    "nx = 601\n",
    "ny = 351\n",
    "nz = 251\n",
    "\n",
    "Re = 50000.0\n",
    "prescribed_vel = 0.05\n",
    "clength = nx - 1\n",
    "\n",
    "visc = prescribed_vel * clength / Re\n",
    "omega = 1.0 / (3. * visc + 0.5)\n",
    "\n",
    "os.system('rm -rf ./*.vtk && rm -rf ./*.png')\n",
    "\n",
    "kwargs = {\n",
    "    'lattice': lattice,\n",
    "    'omega': omega,\n",
    "    'nx': nx,\n",
    "    'ny': ny,\n",
    "    'nz': nz,\n",
    "    'precision': precision,\n",
    "    'io_rate': 100,\n",
    "    'print_info_rate': 100,\n",
    "    'return_fpost': True  # Need to retain fpost-collision for computation of lift and drag\n",
    "}\n",
    "sim = Car(**kwargs)\n",
    "sim.run(200000)\n",
    "\n",
    "#NB if you get an error here, it is because cuda needs updateing\n",
    "# See https://jax.readthedocs.io/en/latest/installation.html#nvidia-gpu"
   ]
  },
  {
   "cell_type": "code",
   "execution_count": null,
   "id": "3dd335cb-cb1c-44d8-9dea-41e0d43a10fa",
   "metadata": {},
   "outputs": [],
   "source": []
  }
 ],
 "metadata": {
  "kernelspec": {
   "display_name": "python3",
   "language": "python",
   "name": "python3"
  }
 },
 "nbformat": 4,
 "nbformat_minor": 5
}
